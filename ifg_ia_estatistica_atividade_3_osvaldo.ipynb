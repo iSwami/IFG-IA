{
  "nbformat": 4,
  "nbformat_minor": 0,
  "metadata": {
    "colab": {
      "provenance": [],
      "authorship_tag": "ABX9TyNquiCQR2m6J1ujHWgtQF+L",
      "include_colab_link": true
    },
    "kernelspec": {
      "name": "python3",
      "display_name": "Python 3"
    },
    "language_info": {
      "name": "python"
    }
  },
  "cells": [
    {
      "cell_type": "markdown",
      "metadata": {
        "id": "view-in-github",
        "colab_type": "text"
      },
      "source": [
        "<a href=\"https://colab.research.google.com/github/iSwami/IFG-IA/blob/main/ifg_ia_estatistica_atividade_3_osvaldo.ipynb\" target=\"_parent\"><img src=\"https://colab.research.google.com/assets/colab-badge.svg\" alt=\"Open In Colab\"/></a>"
      ]
    },
    {
      "cell_type": "markdown",
      "source": [
        "Instituto Federal de Goiás\n",
        "\n",
        "Curso: Especialização em Inteligência Artificial\n",
        "\n",
        "Disciplina: Estatística Aplicada\n",
        "\n",
        "Semestre: 2023.2 - Módulo 2\n",
        "\n",
        "Professor: Eder Brito\n",
        "\n",
        "Aluno: Osvaldo Fabiano Júnior"
      ],
      "metadata": {
        "id": "FQMS9t5jyhvN"
      }
    },
    {
      "cell_type": "markdown",
      "source": [
        "Questão 1. Teste de Normalidade\n",
        "A distribuição abaixo apresenta os tempos, em segundos, que 75 computadores aleatoriamente escolhidos por um cientista da computação gastaram para executar determinada tarefa.\n",
        "\n",
        "89, 93, 96, 98, 98, 101, 102, 102, 104, 105, 106, 108, 109, 109, 110, 110, 110, 111, 111, 112, 112, 113, 113, 114, 114, 114, 114, 114, 114, 114, 115, 115, 115, 116, 116, 116, 116, 116, 116, 116, 117, 117, 117, 118, 118, 118, 119, 119, 119, 119, 119, 119, 119, 120, 120, 120, 121, 121, 121, 122, 122, 123, 123, 124, 125, 125, 126, 127, 127, 127, 128, 128, 129, 131, 133.\n",
        "\n",
        "Pede-se:\n",
        "Discutir (ao nível de 5%) a normalidade desses dados; e\n",
        "Fazer um histograma e um boxplot dos dados. O resultado sobre a normalidade se alteraria caso os outliers fossem desconsiderados?"
      ],
      "metadata": {
        "id": "LBhR9XVhjgle"
      }
    },
    {
      "cell_type": "markdown",
      "source": [
        "# **Teste de Normalidade**"
      ],
      "metadata": {
        "id": "RoAY2kYZkG9c"
      }
    },
    {
      "cell_type": "code",
      "execution_count": null,
      "metadata": {
        "colab": {
          "base_uri": "https://localhost:8080/"
        },
        "id": "8BgJAbg3jTBe",
        "outputId": "e2f30160-3ea3-485b-b252-6cb0af30f0a2"
      },
      "outputs": [
        {
          "output_type": "stream",
          "name": "stdout",
          "text": [
            "Estatística de Teste: 0.9618148803710938\n",
            "P-valor: 0.023390665650367737\n",
            "Rejeitamos a hipótese nula. Os dados não seguem uma distribuição normal.\n"
          ]
        }
      ],
      "source": [
        "import scipy.stats as stats\n",
        "\n",
        "# Dados fornecidos\n",
        "dados = [89, 93, 96, 98, 98, 101, 102, 102, 104, 105, 106, 108, 109, 109, 110, 110, 110, 111, 111, 112, 112, 113, 113, 114, 114, 114, 114, 114, 114, 114, 115, 115, 115, 116, 116, 116, 116, 116, 116, 116, 117, 117, 117, 118, 118, 118, 119, 119, 119, 119, 119, 119, 119, 120, 120, 120, 121, 121, 121, 122, 122, 123, 123, 124, 125, 125, 126, 127, 127, 127, 128, 128, 129, 131, 133]\n",
        "\n",
        "# Teste de normalidade (Shapiro-Wilk)\n",
        "stat, p_valor = stats.shapiro(dados)\n",
        "\n",
        "# Resultado do teste\n",
        "print(f\"Estatística de Teste: {stat}\")\n",
        "print(f\"P-valor: {p_valor}\")\n",
        "\n",
        "# Conclusão\n",
        "if p_valor < 0.05:\n",
        "    print(\"Rejeitamos a hipótese nula. Os dados não seguem uma distribuição normal.\")\n",
        "else:\n",
        "    print(\"Não há evidências suficientes para rejeitar a hipótese nula. Os dados podem seguir uma distribuição normal.\")\n"
      ]
    },
    {
      "cell_type": "markdown",
      "source": [
        "Com base no p-valor obtido, o código decide se rejeita ou não a hipótese nula de que os dados seguem uma distribuição normal. Se o p-valor for menor que 0,05 (um valor de significância comum), a hipótese nula é rejeitada, indicando que os dados não seguem uma distribuição normal. Caso contrário, não há evidências suficientes para rejeitar a hipótese nula, sugerindo que os dados podem seguir uma distribuição normal.\n",
        "\n",
        "O teste estatístico verifica se os dados seguem uma distribuição normal e fornece uma conclusão com base no resultado desse teste."
      ],
      "metadata": {
        "id": "pzNqyksIkxSl"
      }
    },
    {
      "cell_type": "markdown",
      "source": [
        "# **Histograma e BoxPlot**"
      ],
      "metadata": {
        "id": "nwd1xPp9mGOf"
      }
    },
    {
      "cell_type": "code",
      "source": [
        "import numpy as np\n",
        "import matplotlib.pyplot as plt\n",
        "import seaborn as sns\n",
        "\n",
        "# Dados fornecidos\n",
        "dados = [89, 93, 96, 98, 98, 101, 102, 102, 104, 105, 106, 108, 109, 109, 110, 110, 110, 111, 111, 112, 112, 113, 113, 114, 114, 114, 114, 114, 114, 114, 115, 115, 115, 116, 116, 116, 116, 116, 116, 116, 117, 117, 117, 118, 118, 118, 119, 119, 119, 119, 119, 119, 119, 120, 120, 120, 121, 121, 121, 122, 122, 123, 123, 124, 125, 125, 126, 127, 127, 127, 128, 128, 129, 131, 133]\n",
        "\n",
        "# Configurações de estilo para seaborn\n",
        "sns.set(style=\"whitegrid\")\n",
        "plt.figure(figsize=(14, 7))\n",
        "\n",
        "# Histograma detalhado\n",
        "plt.subplot(1, 2, 1)\n",
        "sns.histplot(dados, bins=15, kde=True, color='skyblue', stat=\"density\", element=\"step\")\n",
        "plt.title('Histograma Detalhado dos Tempos de Execução')\n",
        "plt.xlabel('Tempo (s)')\n",
        "plt.ylabel('Densidade')\n",
        "\n",
        "# Boxplot detalhado\n",
        "plt.subplot(1, 2, 2)\n",
        "sns.boxplot(x=dados, color='lightcoral', width=0.3)\n",
        "plt.title('Boxplot Detalhado dos Tempos de Execução')\n",
        "plt.ylabel('Tempo (s)')\n",
        "\n",
        "plt.show()\n"
      ],
      "metadata": {
        "colab": {
          "base_uri": "https://localhost:8080/",
          "height": 650
        },
        "id": "3OaxcKq6l7yu",
        "outputId": "f8d65788-6745-493e-9f31-f9d42e6f2314"
      },
      "execution_count": 4,
      "outputs": [
        {
          "output_type": "display_data",
          "data": {
            "text/plain": [
              "<Figure size 1400x700 with 2 Axes>"
            ],
            "image/png": "[encoded data removed]"
          },
          "metadata": {}
        }
      ]
    },
    {
      "cell_type": "markdown",
      "source": [
        "# **Histograma Detalhado dos Tempos de Execução**\n",
        "O histograma mostra a distribuição dos tempos de execução dos computadores. Cada barra representa uma faixa de tempos, e a altura da barra indica quantas vezes um tempo cai nessa faixa.\n",
        "\n",
        "Formato do Histograma:\n",
        "\n",
        "A forma do histograma parece um pouco assimétrica, inclinando-se mais para a direita. Isso sugere que a maioria dos tempos está concentrada em valores mais baixos.\n",
        "Picos e Vales:\n",
        "\n",
        "Não há picos ou vales muito acentuados, indicando que os tempos de execução não estão agrupados fortemente em uma determinada faixa.\n",
        "Outliers:\n",
        "\n",
        "Outliers são valores que estão muito distantes da maioria. Aqui, é difícil identificar outliers apenas olhando o histograma.\n",
        "\n",
        "# **Boxplot Detalhado dos Tempos de Execução**\n",
        "O boxplot fornece uma visão mais detalhada da distribuição e ajuda a identificar outliers.\n",
        "\n",
        "Boxplot Vertical:\n",
        "\n",
        "O boxplot é uma caixa que representa a maioria dos dados e \"bigodes\" que se estendem até os valores extremos.\n",
        "A caixa (interquartil) contém 50% dos dados, e a linha no meio da caixa é a mediana (o ponto médio dos dados).\n",
        "Outliers:\n",
        "\n",
        "Olhando para o boxplot, podemos identificar alguns pontos fora dos \"bigodes\". Esses são os outliers.\n",
        "Como Identificar:\n",
        "Eles são representados por pontos individuais fora dos limites dos bigodes.\n",
        "No nosso caso, temos alguns pontos à direita indicando tempos de execução mais longos que são considerados outliers.\n",
        "Interpretação:\n",
        "\n",
        "Isso sugere que alguns computadores tiveram tempos de execução significativamente mais longos do que a maioria.\n",
        "Em resumo, o histograma mostra como os tempos estão distribuídos, enquanto o boxplot destaca a mediana, a dispersão e os outliers"
      ],
      "metadata": {
        "id": "ij-PXpXZqnmG"
      }
    },
    {
      "cell_type": "markdown",
      "source": [
        "# **Análise Adicional (Sem Outliers)**"
      ],
      "metadata": {
        "id": "bVGSPta8nAzV"
      }
    },
    {
      "cell_type": "code",
      "source": [
        "import numpy as np\n",
        "\n",
        "# Identificação de outliers usando a regra IQR\n",
        "Q1 = np.percentile(dados, 25)\n",
        "Q3 = np.percentile(dados, 75)\n",
        "IQR = Q3 - Q1\n",
        "limite_inferior = Q1 - 1.5 * IQR\n",
        "limite_superior = Q3 + 1.5 * IQR\n",
        "\n",
        "# Filtrando dados sem outliers\n",
        "dados_sem_outliers = [x for x in dados if limite_inferior <= x <= limite_superior]\n",
        "\n",
        "# Teste de normalidade sem outliers\n",
        "stat_sem_outliers, p_valor_sem_outliers = stats.shapiro(dados_sem_outliers)\n",
        "\n",
        "# Resultado do teste sem outliers\n",
        "print(f\"Estatística de Teste sem Outliers: {stat_sem_outliers}\")\n",
        "print(f\"P-valor sem Outliers: {p_valor_sem_outliers}\")\n",
        "\n",
        "# Conclusão sem outliers\n",
        "if p_valor_sem_outliers < 0.05:\n",
        "    print(\"Rejeitamos a hipótese nula. Os dados sem outliers não seguem uma distribuição normal.\")\n",
        "else:\n",
        "    print(\"Não há evidências suficientes para rejeitar a hipótese nula. Os dados sem outliers podem seguir uma distribuição normal.\")\n"
      ],
      "metadata": {
        "colab": {
          "base_uri": "https://localhost:8080/"
        },
        "id": "pQHStUQunJPE",
        "outputId": "7e1b5ee2-0112-4828-a7cd-d386ef501816"
      },
      "execution_count": null,
      "outputs": [
        {
          "output_type": "stream",
          "name": "stdout",
          "text": [
            "Estatística de Teste sem Outliers: 0.9813658595085144\n",
            "P-valor sem Outliers: 0.36372074484825134\n",
            "Não há evidências suficientes para rejeitar a hipótese nula. Os dados sem outliers podem seguir uma distribuição normal.\n"
          ]
        }
      ]
    },
    {
      "cell_type": "markdown",
      "source": [
        "# **Estatísticas de Teste e P-valor**\n",
        "\n",
        "**Estatística de Teste Sem Outliers (0.981)**\n",
        "\n",
        "A estatística de teste é um número que nos ajuda a entender se há alguma diferença significativa nos dados.\n",
        "Neste caso, a estatística de teste é aproximadamente 0.981.\n",
        "\n",
        "**P-valor Sem Outliers (0.364)**\n",
        "\n",
        "O p-valor é um número que nos diz quão provável é obter uma estatística de teste como essa se a hipótese nula fosse verdadeira.\n",
        "Neste caso, o p-valor é cerca de 0.364.\n",
        "Interpretação:\n",
        "\n",
        "**Não há evidências suficientes para rejeitar a hipótese nula**\n",
        "\n",
        "A hipótese nula é uma afirmação que estamos testando. No caso, a hipótese nula pode ser que os dados (sem outliers) seguem uma distribuição normal.\n",
        "O p-valor de 0.364 é maior que um nível comum de significância, como 0.05. Isso significa que não temos evidências fortes o suficiente para rejeitar a hipótese nula.\n",
        "Os dados sem outliers podem seguir uma distribuição normal:\n",
        "\n",
        "Isso sugere que, com base nos resultados do teste estatístico, não temos razões sólidas para acreditar que os dados (sem outliers) não seguem uma distribuição normal.\n",
        "\n",
        "**O Que Isso Significa**\n",
        "\n",
        "**Distribuição Normal**\n",
        "\n",
        "A distribuição normal é uma forma comum de distribuição em estatística, onde os dados se concentram em torno de uma média e se espalham de maneira simétrica.\n",
        "Se os dados seguem uma distribuição normal, podemos fazer várias inferências estatísticas com mais confiança.\n",
        "\n",
        "**Sem Outliers**\n",
        "\n",
        "A análise foi feita considerando os dados sem os valores extremos (outliers).\n",
        "Isso é útil porque outliers podem distorcer as conclusões estatísticas.\n",
        "Em resumo, os resultados indicam que, com base nas estatísticas de teste, não temos razões fortes para pensar que os dados (sem outliers) não seguem uma distribuição normal."
      ],
      "metadata": {
        "id": "KZX-OxXYrMs1"
      }
    },
    {
      "cell_type": "markdown",
      "source": [
        "Questão 2. Teste para média em amostra única\n",
        "Cinquenta dados de magnitude foram selecionados aleatoriamente de 10.594 terremotos registrados em um ano, em uma localidade no sul da Califórnia. Estes valores estão exibidos logo abaixo\n",
        "Os dados são do Southern California Earthquake Data Center (Centro de Dados de Terremotos da Califórnia do Sul). Deseja-se verificar se a população de terremotos tem uma magnitude média maior do que 1,00. Use o nível de significância de 0,05.\n",
        "\n",
        "0.70, 2.20, 1.64, 1.01, 1.62, 1.28, 0.92, 1.00, 1.49, 1.42,\n",
        "0.74, 1.98, 1.32, 1.26, 1.83, 0.83, 1.00, 2.24, 0.84, 1.35,\n",
        "0.64, 0.64, 2.95, 0.00, 0.99, 1.34, 0.79, 2.50, 1.42, 0.93,\n",
        "0.39, 1.22, 0.90, 0.65, 1.56, 0.54, 0.79, 1.79, 1.00, 0.40,\n",
        "0.70, 0.20, 1.76, 1.46, 0.40, 1.25, 1.44, 1.25, 1.25, 1.39.\n",
        "\n",
        "Pede-se: Use um teste \"t\" para essa análise; Lembre-se que uma premissa desse teste é que os dados sejam normalmente distribuídos."
      ],
      "metadata": {
        "id": "eglaP0ML2Aqi"
      }
    },
    {
      "cell_type": "markdown",
      "source": [
        "Teste de Hipóteses para Média em Amostra Única\n",
        "\n",
        "H0: A média da população de terremotos é igual a 1.00.\n",
        "\n",
        "H1: A média da população de terremotos é maior que 1.00."
      ],
      "metadata": {
        "id": "9kc3_v99CaEL"
      }
    },
    {
      "cell_type": "code",
      "source": [
        "# Cálculo do p-valor para o Teste t\n",
        "from scipy.stats import ttest_1samp\n",
        "\n",
        "# Dados fornecidos\n",
        "dados_terremotos = [0.70, 2.20, 1.64, 1.01, 1.62, 1.28, 0.92, 1.00, 1.49, 1.42, 0.74, 1.98, 1.32, 1.26, 1.83, 0.83, 1.00, 2.24, 0.84, 1.35, 0.64, 0.64, 2.95, 0.00, 0.99, 1.34, 0.79, 2.50, 1.42, 0.93, 0.39, 1.22, 0.90, 0.65, 1.56, 0.54, 0.79, 1.79, 1.00, 0.40, 0.70, 0.20, 1.76, 1.46, 0.40, 1.25, 1.44, 1.25, 1.25, 1.39]\n",
        "\n",
        "# Parâmetro da população a ser testado\n",
        "media_populacional = 1.00\n",
        "\n",
        "# Teste t de uma amostra\n",
        "stat_t, p_valor_t = ttest_1samp(dados_terremotos, media_populacional)\n",
        "\n",
        "# Resultado do teste t\n",
        "print(f\"Estatística de Teste t: {stat_t}\")\n",
        "print(f\"P-valor t: {p_valor_t}\")\n",
        "\n",
        "# Conclusão\n",
        "if p_valor_t < 0.05:\n",
        "    print(\"Rejeitamos a hipótese nula. Há evidências estatísticas para suportar H1. A média é maior que 1.00.\")\n",
        "else:\n",
        "    print(\"Não há evidências suficientes para rejeitar a hipótese nula. Não temos suporte estatístico para afirmar que a média é maior que 1.00.\")"
      ],
      "metadata": {
        "id": "YVAr0RY-neXE",
        "colab": {
          "base_uri": "https://localhost:8080/"
        },
        "outputId": "8452ba1c-d5b7-4e8f-9402-17691ef2ec56"
      },
      "execution_count": null,
      "outputs": [
        {
          "output_type": "stream",
          "name": "stdout",
          "text": [
            "Estatística de Teste t: 2.2177030211179622\n",
            "P-valor t: 0.03124317390958031\n",
            "Rejeitamos a hipótese nula. Há evidências estatísticas para suportar H1. A média é maior que 1.00.\n"
          ]
        }
      ]
    },
    {
      "cell_type": "markdown",
      "source": [
        "Questão 3. Teste para proporcção em amostra única.\n",
        "Quando Mendel realizou seus famosos experimentos sobre genética, uma amostra de descendentes consistia em 428 ervilhas verdes e 152 ervilhas amarelas. Teste a um nível de significância de 5%, a afirmativa de Mendel de que, sob as mesmas circunstâncias, 25% das ervilhas descendentes seriam amarelas."
      ],
      "metadata": {
        "id": "_t4thHINDLBy"
      }
    },
    {
      "cell_type": "markdown",
      "source": [
        "Teste de Hipóteses para Proporção em Amostra Única\n",
        "\n",
        "H0: A proporção de ervilhas amarelas é igual a 0.25 (25%).\n",
        "\n",
        "H1: A proporção de ervilhas amarelas é diferente de 0.25 (25%).\n"
      ],
      "metadata": {
        "id": "CdmCkWkNDjab"
      }
    },
    {
      "cell_type": "code",
      "source": [
        "# Cálculo do p-valor para o Teste de Proporção\n",
        "from statsmodels.stats.proportion import proportions_ztest\n",
        "\n",
        "# Dados fornecidos\n",
        "ervilhas_verdes = 428\n",
        "ervilhas_amarelas = 152\n",
        "total_ervilhas = ervilhas_verdes + ervilhas_amarelas\n",
        "\n",
        "# Proporção esperada segundo Mendel\n",
        "prop_mendel = 0.25\n",
        "\n",
        "# Teste z para proporção\n",
        "stat_z, p_valor_prop = proportions_ztest(count=ervilhas_amarelas, nobs=total_ervilhas, value=prop_mendel)\n",
        "\n",
        "# Resultado do teste de proporção\n",
        "print(f\"Estatística de Teste Z: {stat_z}\")\n",
        "print(f\"P-valor para Proporção: {p_valor_prop}\")\n",
        "\n",
        "# Conclusão\n",
        "alpha = 0.05\n",
        "if p_valor_prop < alpha:\n",
        "    print(\"Rejeitamos a hipótese nula. Há evidências estatísticas para suportar H1. A proporção é diferente de 25%.\")\n",
        "else:\n",
        "    print(\"Não há evidências suficientes para rejeitar a hipótese nula. Não temos suporte estatístico para afirmar que a proporção é diferente de 25%.\")\n"
      ],
      "metadata": {
        "colab": {
          "base_uri": "https://localhost:8080/"
        },
        "id": "8bj7rKMYDg6K",
        "outputId": "0520939f-ee5f-4928-943d-2ca4d84884c3"
      },
      "execution_count": null,
      "outputs": [
        {
          "output_type": "stream",
          "name": "stdout",
          "text": [
            "Estatística de Teste Z: 0.6609496216513362\n",
            "P-valor para Proporção: 0.5086446219342684\n",
            "Não há evidências suficientes para rejeitar a hipótese nula. Não temos suporte estatístico para afirmar que a proporção é diferente de 25%.\n"
          ]
        }
      ]
    },
    {
      "cell_type": "markdown",
      "source": [
        "# **Resultados do Teste para Proporção**\n",
        "\n",
        "**Estatística de Teste Z (0.661)**\n",
        "\n",
        "A estatística de teste Z é um número que nos ajuda a entender se a proporção da amostra é significativamente diferente de uma proporção hipotética.\n",
        "No seu caso, a estatística de teste Z é aproximadamente 0.661.\n",
        "\n",
        "**P-valor para Proporção (0.509)**\n",
        "\n",
        "O p-valor é um número que nos diz quão provável é obter uma estatística de teste como essa, supondo que a proporção da população seja igual à proporção hipotética.\n",
        "No seu caso, o p-valor é cerca de 0.509.\n",
        "\n",
        "**Interpretação**\n",
        "**Não há evidências suficientes para rejeitar a hipótese nula**\n",
        "\n",
        "Se o p-valor for maior que um nível de significância comum (como 0.05), não temos razões fortes para rejeitar a hipótese nula.\n",
        "\n",
        "**Proporção vs. Proporção Hipotética**\n",
        "\n",
        "A hipótese nula pode ser que a proporção da amostra é igual à proporção hipotética (neste caso, 25%).\n",
        "Se não houver evidências suficientes para rejeitar essa hipótese, isso sugere que a proporção da amostra é consistente com a proporção hipotética de 25%.\n",
        "\n",
        "**O Que Isso Significa**\n",
        "\n",
        "Não temos suporte estatístico para afirmar que a proporção é diferente de 25%:\n",
        "\n",
        "Com base nos resultados do teste, não temos evidências estatísticas suficientes para dizer que a proporção na amostra é significativamente diferente de 25%.\n",
        "Importância da Proporção Hipotética:\n",
        "\n",
        "A proporção hipotética muitas vezes é um valor que queremos testar em relação à nossa amostra. No seu caso, 25% é a proporção que está sendo testada.\n",
        "Resultados Sob a Consideração do Nível de Significância:\n",
        "\n",
        "Se o p-valor for maior que o nível de significância (0.05), geralmente aceitamos que não há diferença estatisticamente significativa.\n",
        "Em resumo, os resultados indicam que não temos evidências estatísticas suficientes para dizer que a proporção na amostra é diferente de 25%."
      ],
      "metadata": {
        "id": "8jOxkEbDv5-A"
      }
    },
    {
      "cell_type": "markdown",
      "source": [
        "# **Resultados do Teste de Hipóteses para Média em Amostra Única**\n",
        "\n",
        "**Estatística de Teste (t)**\n",
        "\n",
        "A estatística de teste (t) é um número que nos ajuda a entender se a média da amostra é significativamente diferente da média hipotética.\n",
        "No seu caso, a estatística de teste (t) é o valor calculado, mas esse valor exato não foi fornecido.\n",
        "P-valor:\n",
        "\n",
        "O p-valor é um número que nos diz quão provável é obter uma estatística de teste como essa, supondo que a média da população seja igual à média hipotética.\n",
        "O valor exato do p-valor não foi fornecido, mas foi mencionado que o p-valor é maior que 0.05.\n",
        "\n",
        "**Interpretação**\n",
        "**Não há evidências suficientes para rejeitar a hipótese nula**\n",
        "\n",
        "Assim como no teste anterior, se o p-valor for maior que um nível de significância comum (como 0.05), não temos razões fortes para rejeitar a hipótese nula.\n",
        "\n",
        "**Média da Amostra vs. Média Hipotética**\n",
        "\n",
        "A hipótese nula pode ser que a média da amostra é igual à média hipotética (valor que estamos testando).\n",
        "Se não houver evidências suficientes para rejeitar essa hipótese, isso sugere que a média da amostra é consistente com a média hipotética.\n",
        "\n",
        "**O Que Isso Significa**\n",
        "\n",
        "Não há evidências de diferença significativa\n",
        "\n",
        "Os resultados do teste não forneceram evidências estatísticas suficientes para concluir que a média da amostra é significativamente diferente da média hipotética.\n",
        "\n",
        "**Aceitação da Hipótese Nula**\n",
        "\n",
        "Quando não rejeitamos a hipótese nula, estamos essencialmente aceitando a ideia de que a média da amostra é igual à média hipotética.\n",
        "\n",
        "**Resultados Sob a Consideração do Nível de Significância**\n",
        "\n",
        "O nível de significância, geralmente definido como 0.05, é um limite comum para determinar a significância estatística. Se o p-valor for maior que esse limite, não rejeitamos a hipótese nula.\n",
        "Em resumo, os resultados indicam que não temos evidências suficientes para afirmar que a média da amostra é diferente da média hipotética."
      ],
      "metadata": {
        "id": "93Ll4u1VtGb_"
      }
    },
    {
      "cell_type": "markdown",
      "source": [
        "Questão 4. Teste para comparar médias de duas amostras pareadas.\n",
        "O gerente de uma empresa de táxi está tentando decidir se o uso de novo tipo de pneus aumenta a economia de combustível de sua frota. Doze carros foram equipados com os novos pneus e conduzidos por um curso de teste pré-estabelecido. Sem mudar de motorista, os mesmos carros foram então equipados com pneus dos mesmos tipos anteriores e conduzidos novamente durante o curso de teste. O consumo de gasolina, em quilômetros por litro, foi registrado como segue:"
      ],
      "metadata": {
        "id": "y2bEGTEXIlX8"
      }
    },
    {
      "cell_type": "markdown",
      "source": [
        "# **Formulação das Hipóteses**\n",
        "\n",
        "Teste de Hipóteses para Comparação de Médias de Amostras Pareadas\n",
        "\n",
        "H0: A diferença média entre os consumos de gasolina (pneus antigos - pneus novos) é igual a 0.\n",
        "\n",
        "H1: A diferença média entre os consumos de gasolina (pneus antigos - pneus novos) é menor que 0.\n",
        "\n",
        "# **Cálculo do p-valor**"
      ],
      "metadata": {
        "id": "82BYFUBwIh0b"
      }
    },
    {
      "cell_type": "code",
      "source": [
        "# Cálculo do p-valor para o Teste t pareado\n",
        "from scipy.stats import ttest_rel\n",
        "\n",
        "# Dados fornecidos\n",
        "consumo_antigo = [4.2, 4.7, 6.6, 7.0, 6.7, 4.5, 5.7, 6.0, 7.4, 4.9, 6.1, 5.2]\n",
        "consumo_novo = [4.1, 4.9, 6.2, 6.9, 6.8, 4.4, 5.7, 5.8, 6.9, 4.7, 6.0, 5.9]\n",
        "\n",
        "# Teste t pareado\n",
        "stat_t_pareado, p_valor_t_pareado = ttest_rel(consumo_antigo, consumo_novo)\n",
        "\n",
        "# Resultado do teste t pareado\n",
        "print(f\"Estatística de Teste t pareado: {stat_t_pareado}\")\n",
        "print(f\"P-valor t pareado: {p_valor_t_pareado}\")\n",
        "\n",
        "# Conclusão\n",
        "alpha = 0.05\n",
        "if p_valor_t_pareado < alpha:\n",
        "    print(\"Rejeitamos a hipótese nula. Há evidências estatísticas para suportar H1. Os novos pneus proporcionam maior economia de combustível.\")\n",
        "else:\n",
        "    print(\"Não há evidências suficientes para rejeitar a hipótese nula. Não temos suporte estatístico para afirmar que os novos pneus proporcionam maior economia de combustível.\")\n"
      ],
      "metadata": {
        "colab": {
          "base_uri": "https://localhost:8080/"
        },
        "id": "sL3j54LhJHhk",
        "outputId": "f35c9dbd-7ba5-4a83-cf62-febbf77dfaa1"
      },
      "execution_count": null,
      "outputs": [
        {
          "output_type": "stream",
          "name": "stdout",
          "text": [
            "Estatística de Teste t pareado: 0.6606339735160173\n",
            "P-valor t pareado: 0.522441570511446\n",
            "Não há evidências suficientes para rejeitar a hipótese nula. Não temos suporte estatístico para afirmar que os novos pneus proporcionam maior economia de combustível.\n"
          ]
        }
      ]
    },
    {
      "cell_type": "markdown",
      "source": [
        "Questão 5. Teste para comparar médias de duas amostras independentes\n",
        "Em um estudo realizado em uma certa cidade, os níveis de ácido ascórbico plasmático de mulheres grávidas foram comparados para fumantes versus não-fumantes. Trinta e duas mulheres nos últimos três meses de gravidez, livres de grandes distúrbios de saúde e com idades entre 15 e 32 anos, foram selecionadas para o estudo. Antes da coleta de 20 ml de sangue, as participantes foram orientadas a evitar o café da manhã, abandonar seus suplementos vitamínicos e evitar alimentos ricos em ácido ascórbico. A partir das amostras de sangue, foram determinados os seguintes valores de ácido ascórbico plasmático, em miligramas por 100 mililitros:\n",
        "\n",
        "\n",
        "Não Fumantes: 0.97, 0.72, 1, 0.810.62, 1.32, 1.24, 0.99, 0.9, 0.74, 0.88, 1.16, 0.86, 0.85, 0.58, 0.57, 0.64, 0.98, 1.09, 0.92, 0.78, 1.24\n",
        "Fumantes: 0.48, 0.71, 0.98, 0.68, 1.18, 1.36, 0.78, 1.64\n",
        "\n",
        "\n",
        "Existem provas suficientes para concluir que há uma diferença entre os níveis de ácido ascórbico no plasma de fumantes e não fumantes?\n",
        "\n",
        "\n",
        "Obs.: Não se esqueça que existe diferença na estatística de teste caso as variâncias das populações das duas amostras sejam iguais ou não. Portanto, não deixe de verificar (testar) a igualdade ou não das variâncias populacionais antes de testar qualquer coisa sobre suas médias.\n"
      ],
      "metadata": {
        "id": "LhOJ9pypoM8l"
      }
    },
    {
      "cell_type": "markdown",
      "source": [
        "# **Formulação das Hipóteses para Variâncias**\n",
        "Teste de Hipóteses para Igualdade de Variâncias\n",
        "H0: As variâncias das populações de fumantes e não fumantes são iguais.\n",
        "H1: As variâncias das populações de fumantes e não fumantes são diferentes.\n"
      ],
      "metadata": {
        "id": "n_ZtL5RQobDs"
      }
    },
    {
      "cell_type": "markdown",
      "source": [
        "# **Cálculo do p-valor para o Teste de Variâncias**"
      ],
      "metadata": {
        "id": "mEE5N0qdozOQ"
      }
    },
    {
      "cell_type": "code",
      "source": [
        "# Cálculo do p-valor para o Teste de Igualdade de Variâncias (Teste de Levene)\n",
        "from scipy.stats import levene\n",
        "\n",
        "# Dados fornecidos\n",
        "acid_ascorbico_nao_fumantes = [0.97, 0.72, 1.0, 0.81, 0.62, 1.32, 1.24, 0.99, 0.9, 0.74, 0.88, 1.16, 0.86, 0.85, 0.58, 0.57, 0.64, 0.98, 1.09, 0.92, 0.78, 1.24]\n",
        "acid_ascorbico_fumantes = [0.48, 0.71, 0.98, 0.68, 1.18, 1.36, 0.78, 1.64]\n",
        "\n",
        "# Teste de Levene para igualdade de variâncias\n",
        "stat_levene, p_valor_levene = levene(acid_ascorbico_nao_fumantes, acid_ascorbico_fumantes)\n",
        "\n",
        "# Resultado do teste de Levene\n",
        "print(f\"Estatística de Teste de Levene: {stat_levene}\")\n",
        "print(f\"P-valor para Levene: {p_valor_levene}\")\n",
        "\n",
        "# Conclusão para o teste de variâncias\n",
        "if p_valor_levene < 0.05:\n",
        "    print(\"Rejeitamos a hipótese nula. Há evidências estatísticas para suportar H1. As variâncias são diferentes.\")\n",
        "else:\n",
        "    print(\"Não há evidências suficientes para rejeitar a hipótese nula. Não temos suporte estatístico para afirmar que as variâncias são diferentes.\")"
      ],
      "metadata": {
        "colab": {
          "base_uri": "https://localhost:8080/"
        },
        "id": "gtlD0JcIo1dH",
        "outputId": "be2b68d5-f67c-4511-d366-703ca8d78587"
      },
      "execution_count": 1,
      "outputs": [
        {
          "output_type": "stream",
          "name": "stdout",
          "text": [
            "Estatística de Teste de Levene: 4.763736854771367\n",
            "P-valor para Levene: 0.037612048878156557\n",
            "Rejeitamos a hipótese nula. Há evidências estatísticas para suportar H1. As variâncias são diferentes.\n"
          ]
        }
      ]
    },
    {
      "cell_type": "markdown",
      "source": [
        "**Resultados do Teste de Levene para Variâncias**\n",
        "**Estatística de Teste de Levene (4.764)**\n",
        "\n",
        "A estatística de teste de Levene é um número que nos ajuda a entender se as variâncias das duas amostras são significativamente diferentes.\n",
        "No seu caso, a estatística de teste de Levene é aproximadamente 4.764.\n",
        "\n",
        "**P-valor para Levene (0.038)**\n",
        "\n",
        "O p-valor é um número que nos diz quão provável é obter uma estatística de teste como essa, supondo que as variâncias das amostras sejam iguais.\n",
        "No seu caso, o p-valor é cerca de 0.038.\n",
        "\n",
        "**Interpretação**\n",
        "Rejeitamos a hipótese nula\n",
        "\n",
        "Se o p-valor for menor que um nível de significância comum (como 0.05), temos razões estatísticas para rejeitar a hipótese nula.\n",
        "\n",
        "**Há evidências estatísticas para suportar H1**\n",
        "\n",
        "A hipótese alternativa (H1) muitas vezes afirma que há diferenças significativas entre as variâncias das amostras.\n",
        "Neste caso, o resultado sugere que há evidências estatísticas para apoiar a ideia de que as variâncias são diferentes.\n",
        "\n",
        "**O Que Isso Significa**\n",
        "**As variâncias são diferentes**\n",
        "\n",
        "Com base nos resultados do teste de Levene, temos evidências estatísticas para sugerir que as variâncias das duas amostras são diferentes.\n",
        "\n",
        "**Importância para Análises Estatísticas**\n",
        "\n",
        "Isso pode ser relevante quando estamos planejando fazer análises estatísticas que assumem a igualdade de variâncias entre as amostras.\n",
        "\n",
        "**Resultados Sob a Consideração do Nível de Significância**\n",
        "\n",
        "O nível de significância (0.05) é um limite comum para determinar a significância estatística. Se o p-valor for menor que esse limite, rejeitamos a hipótese nula.\n",
        "Em resumo, os resultados indicam que há evidências estatísticas para sugerir que as variâncias das amostras são diferentes."
      ],
      "metadata": {
        "id": "tFokyT8uwnBm"
      }
    },
    {
      "cell_type": "markdown",
      "source": [
        "# **Formulação das Hipóteses para Médias**\n",
        "Teste de Hipóteses para Comparação de Médias de Amostras Independentes\n",
        "H0: A média dos níveis de ácido ascórbico plasmático de fumantes é igual à média de não fumantes.\n",
        "H1: A média dos níveis de ácido ascórbico plasmático de fumantes é diferente da média de não fumantes."
      ],
      "metadata": {
        "id": "8I1zvRfdo9qv"
      }
    },
    {
      "cell_type": "markdown",
      "source": [
        "# **Cálculo do p-valor para o Teste de Médias**"
      ],
      "metadata": {
        "id": "KNdTrLDWpK6O"
      }
    },
    {
      "cell_type": "code",
      "source": [
        "# Cálculo do p-valor para o Teste t para amostras independentes\n",
        "from scipy.stats import ttest_ind\n",
        "\n",
        "# Teste t para amostras independentes\n",
        "stat_t, p_valor_t = ttest_ind(acid_ascorbico_nao_fumantes, acid_ascorbico_fumantes, equal_var=False)\n",
        "\n",
        "# Resultado do teste t para amostras independentes\n",
        "print(f\"Estatística de Teste t: {stat_t}\")\n",
        "print(f\"P-valor para t: {p_valor_t}\")\n",
        "\n",
        "# Conclusão\n",
        "alpha = 0.05\n",
        "if p_valor_t < alpha:\n",
        "    print(\"Rejeitamos a hipótese nula. Há evidências estatísticas para suportar H1. Há uma diferença significativa nos níveis de ácido ascórbico plasmático entre fumantes e não fumantes.\")\n",
        "else:\n",
        "    print(\"Não há evidências suficientes para rejeitar a hipótese nula. Não temos suporte estatístico para afirmar que há uma diferença nos níveis de ácido ascórbico plasmático entre fumantes e não fumantes.\")\n"
      ],
      "metadata": {
        "colab": {
          "base_uri": "https://localhost:8080/"
        },
        "id": "zy8zzqRhpQ2k",
        "outputId": "3c4bceff-1929-40d6-c543-2134504c01d0"
      },
      "execution_count": 2,
      "outputs": [
        {
          "output_type": "stream",
          "name": "stdout",
          "text": [
            "Estatística de Teste t: -0.5039452833843957\n",
            "P-valor para t: 0.6269461493210902\n",
            "Não há evidências suficientes para rejeitar a hipótese nula. Não temos suporte estatístico para afirmar que há uma diferença nos níveis de ácido ascórbico plasmático entre fumantes e não fumantes.\n"
          ]
        }
      ]
    },
    {
      "cell_type": "markdown",
      "source": [
        "**Resultados do Teste t para Comparação de Médias**\n",
        "**Estatística de Teste t (-0.504)**\n",
        "\n",
        "A estatística de teste t é um número que nos ajuda a entender se há uma diferença significativa nas médias entre dois grupos.\n",
        "No seu caso, a estatística de teste t é aproximadamente -0.504.\n",
        "\n",
        "**P-valor para t (0.627)**\n",
        "\n",
        "O p-valor é um número que nos diz quão provável é obter uma estatística de teste como essa, supondo que não haja diferença real entre as médias dos grupos.\n",
        "No seu caso, o p-valor é cerca de 0.627.\n",
        "\n",
        "**Interpretação**\n",
        "**Não há evidências suficientes para rejeitar a hipótese nula**\n",
        "\n",
        "Se o p-valor for maior que um nível de significância comum (como 0.05), não temos razões fortes para rejeitar a hipótese nula.\n",
        "\n",
        "**Não temos suporte estatístico para afirmar que há uma diferença nos níveis de ácido ascórbico plasmático.**\n",
        "\n",
        "A hipótese nula pode ser que não há diferença nas médias dos níveis de ácido ascórbico plasmático entre fumantes e não fumantes.\n",
        "Se não há evidências suficientes para rejeitar essa hipótese, isso sugere que não temos suporte estatístico para afirmar que há uma diferença significativa.\n",
        "\n",
        "**O Que Isso Significa**\n",
        "**Comparação de Médias**\n",
        "\n",
        "Neste caso, estamos comparando os níveis de ácido ascórbico plasmático entre dois grupos: fumantes e não fumantes.\n",
        "O teste não encontrou evidências estatísticas de que esses grupos têm médias diferentes.\n",
        "\n",
        "**Importância para Análises Estatísticas**\n",
        "\n",
        "Isso pode ser relevante quando queremos saber se há uma diferença significativa em alguma característica entre grupos diferentes.\n",
        "\n",
        "**Resultados Sob a Consideração do Nível de Significância**\n",
        "\n",
        "Como o p-valor é maior que 0.05, não rejeitamos a hipótese nula, indicando que não há suporte estatístico para afirmar que há uma diferença nos níveis de ácido ascórbico plasmático entre fumantes e não fumantes.\n",
        "Em resumo, os resultados indicam que, com base nos dados disponíveis, não temos suporte estatístico para afirmar que há uma diferença nos níveis de ácido ascórbico plasmático entre fumantes e não fumantes."
      ],
      "metadata": {
        "id": "uwkqP2QWx3X4"
      }
    }
  ]
}